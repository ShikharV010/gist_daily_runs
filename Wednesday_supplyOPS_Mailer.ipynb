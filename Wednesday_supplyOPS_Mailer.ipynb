{
  "nbformat": 4,
  "nbformat_minor": 0,
  "metadata": {
    "colab": {
      "provenance": [],
      "authorship_tag": "ABX9TyNG6l/yFnXsuXUmHqxBddq7",
      "include_colab_link": true
    },
    "kernelspec": {
      "name": "python3",
      "display_name": "Python 3"
    },
    "language_info": {
      "name": "python"
    }
  },
  "cells": [
    {
      "cell_type": "markdown",
      "metadata": {
        "id": "view-in-github",
        "colab_type": "text"
      },
      "source": [
        "<a href=\"https://colab.research.google.com/github/ShikharV010/gist_daily_runs/blob/main/Wednesday_supplyOPS_Mailer.ipynb\" target=\"_parent\"><img src=\"https://colab.research.google.com/assets/colab-badge.svg\" alt=\"Open In Colab\"/></a>"
      ]
    },
    {
      "cell_type": "code",
      "source": [
        "import pandas as pd\n",
        "import smtplib\n",
        "from email.mime.text import MIMEText\n",
        "from sqlalchemy import create_engine"
      ],
      "metadata": {
        "id": "uOg09QFoIooo"
      },
      "execution_count": 124,
      "outputs": []
    },
    {
      "cell_type": "code",
      "source": [
        "# --- PostgreSQL connection info ---\n",
        "pg_params = {\n",
        "    'host': 'gw-postgres-dev.celzx4qnlkfp.us-east-1.rds.amazonaws.com',\n",
        "    'database': 'gw_prod',\n",
        "    'user': 'airbyte_user',\n",
        "    'password': 'airbyte_user_password',\n",
        "    'port': '5432'\n",
        "}"
      ],
      "metadata": {
        "id": "P3phw7dhIs4Y"
      },
      "execution_count": 125,
      "outputs": []
    },
    {
      "cell_type": "code",
      "source": [
        "# SQLAlchemy engine\n",
        "engine = create_engine(\n",
        "    f\"postgresql+psycopg2://{pg_params['user']}:{pg_params['password']}@{pg_params['host']}:{pg_params['port']}/{pg_params['database']}\"\n",
        ")"
      ],
      "metadata": {
        "id": "EQ-g7C1eI1qA"
      },
      "execution_count": 126,
      "outputs": []
    },
    {
      "cell_type": "code",
      "source": [
        "# --- SQL logic: matches your Metabase question 4855 ---\n",
        "query = \"\"\"\n",
        "WITH cte_base_data AS (\n",
        "  SELECT\n",
        "    \"gist\".\"writerallocation_contractedapproved\".\"Campaign ID\" AS campaign_id,\n",
        "    \"gist\".\"writerallocation_contractedapproved\".\"URL\" AS url,\n",
        "    CAST(\"gist\".\"writerallocation_contractedapproved\".\"Next Billing Date\" AS DATE) AS next_billing_date,\n",
        "    \"gist\".\"writerallocation_contractedapproved\".\"Topics Approved\" AS topics_approved,\n",
        "    CAST(\"gist\".\"writerallocation_contractedapproved\".\"Outstanding on day\" AS  int) AS outstanding_on_day,\n",
        "    \"gist\".\"writerallocation_contractedapproved\".\"Status\" AS \"Status\",\n",
        "    \"gist\".\"writerallocation_contractedapproved\".\"Type\" AS \"Type\",\n",
        "    \"Gist Billablecampaignscsm - Campaign\".\"cp_id\" AS cp_id,\n",
        "    \"Gist Billablecampaignscsm - Campaign\".\"name\" AS campaign__name,\n",
        "    \"Gist Billablecampaignscsm - Campaign\".\"url\" AS campaign__url,\n",
        "    \"Gist Billablecampaignscsm - Campaign\".\"csm\" AS campaign__csm,\n",
        "    \"Gist Billablecampaignscsm - Campaign\".\"clean_url\" AS campaign__clean_url,\n",
        "    \"Gist Billablecampaignscsm - Campaign\".\"onboarding_date\" AS campaign__onboarding_date,\n",
        "    \"Gist Billablecampaignscsm - Campaign\".\"days_since_onboarding\" AS campaign__days_since_onboarding,\n",
        "    \"Gist Billablecampaignscsm - Campaign\".\"workflow\" AS campaign__workflow\n",
        "  FROM\n",
        "    \"gist\".\"writerallocation_contractedapproved\"\n",
        "  LEFT JOIN \"gist\".\"gist_billablecampaignscsm\" AS \"Gist Billablecampaignscsm - Campaign\"\n",
        "    ON \"gist\".\"writerallocation_contractedapproved\".\"Campaign ID\" = \"Gist Billablecampaignscsm - Campaign\".\"cp_id\"\n",
        "  WHERE\n",
        "    \"gist\".\"writerallocation_contractedapproved\".\"Status\" = 'Active'\n",
        "    AND \"gist\".\"writerallocation_contractedapproved\".\"Type\" = 'Product'\n",
        "),\n",
        "\n",
        "cte_flags AS (\n",
        "  SELECT *,\n",
        "      -- Low Topics Flag\n",
        "    CASE\n",
        "      WHEN topics_approved <= 8\n",
        "           AND outstanding_on_day > topics_approved\n",
        "      THEN 'Low topics'\n",
        "      ELSE NULL\n",
        "    END AS low_topics_flag,\n",
        "    CASE\n",
        "      WHEN outstanding_on_day > topics_approved\n",
        "           AND next_billing_date IS NOT NULL\n",
        "           AND (next_billing_date - CURRENT_DATE) <= 10\n",
        "      THEN 'Contract end date approaching'\n",
        "      ELSE NULL\n",
        "    END AS imbalanced_topics_extended_flag\n",
        "  FROM cte_base_data\n",
        ")\n",
        "\n",
        "SELECT *, CONCAT_WS(', ',low_topics_flag,imbalanced_topics_extended_flag)  AS reasons\n",
        "FROM cte_flags\n",
        "WHERE low_topics_flag = 'Low topics'\tOR imbalanced_topics_extended_flag = 'Contract end date approaching'\n",
        "ORDER BY 1;\n",
        "\"\"\"\n"
      ],
      "metadata": {
        "id": "Pim5PZFuI7PW"
      },
      "execution_count": 127,
      "outputs": []
    },
    {
      "cell_type": "code",
      "source": [
        "# --- Read into DataFrame ---\n",
        "df = pd.read_sql_query(query, engine)\n",
        "print(\"Data fetched:\", df.shape)"
      ],
      "metadata": {
        "colab": {
          "base_uri": "https://localhost:8080/"
        },
        "id": "1K_oIlf1I8sU",
        "outputId": "12811fb7-3337-48d1-cebe-14725b430ea0"
      },
      "execution_count": 128,
      "outputs": [
        {
          "output_type": "stream",
          "name": "stdout",
          "text": [
            "Data fetched: (15, 18)\n"
          ]
        }
      ]
    },
    {
      "cell_type": "code",
      "source": [
        "# --- Email configuration ---\n",
        "SMTP_SERVER = 'smtp.gmail.com'\n",
        "SMTP_PORT = 587\n",
        "EMAIL_SENDER = 'Gist.support@gushwork.ai'  # Replace with your sender email\n",
        "EMAIL_PASSWORD = 'fbpu luxs wxcb ypul'   # Use Gmail App Password if using Gmail"
      ],
      "metadata": {
        "id": "_UlzQpfMJj1v"
      },
      "execution_count": 129,
      "outputs": []
    },
    {
      "cell_type": "code",
      "source": [
        "# --- Send email function ---\n",
        "def send_email(to_email, subject, html_body):\n",
        "    msg = MIMEText(html_body, 'html')\n",
        "    msg['Subject'] = subject\n",
        "    msg['From'] = EMAIL_SENDER\n",
        "    msg['To'] = to_email\n",
        "\n",
        "    with smtplib.SMTP(SMTP_SERVER, SMTP_PORT) as server:\n",
        "        server.starttls()\n",
        "        server.login(EMAIL_SENDER, EMAIL_PASSWORD)\n",
        "        server.sendmail(EMAIL_SENDER, [to_email], msg.as_string())"
      ],
      "metadata": {
        "id": "shhsGRaAKmT1"
      },
      "execution_count": 130,
      "outputs": []
    },
    {
      "cell_type": "code",
      "source": [
        "print(df)"
      ],
      "metadata": {
        "colab": {
          "base_uri": "https://localhost:8080/"
        },
        "id": "SHlKlOcCMIVz",
        "outputId": "66e97048-8494-4d1b-8441-56320d4c7e05"
      },
      "execution_count": 131,
      "outputs": [
        {
          "output_type": "stream",
          "name": "stdout",
          "text": [
            "                             campaign_id                                url  \\\n",
            "0   013300d9-d7e1-4cf7-8b88-e16f02d5c600                         topmate.io   \n",
            "1   01c697d0-b570-491b-bd5b-192820325bb5                      vizionapi.com   \n",
            "2   1dccf5ae-2f10-4e47-b07e-df0b8d34ca39                        vedantu.com   \n",
            "3   2611e1a4-9515-4b37-8234-145cfd635cc3                      dashreels.com   \n",
            "4   330a8c2b-45ba-48a0-aeb7-5be12dd5c747                        sahipro.com   \n",
            "5   638a483b-3076-45e3-bc1b-b0d122cfdc0a                      akirolabs.com   \n",
            "6   6394fb2b-6d25-4bf8-8931-c2c1e7f95ca6                          udext.com   \n",
            "7   6fa8af97-0019-469f-8daa-731b50e0aab4                   beetlebeetle.com   \n",
            "8   77015d31-0095-4f29-98d4-a4dcf4c6f34d                           sedai.io   \n",
            "9   b4154640-a977-4927-8bd0-932154cfca90    insurancecoveredbreastpumps.com   \n",
            "10  b4218d4f-1984-47ca-bea2-6987b370177f  https://www.artemisiacollege.com/   \n",
            "11  cfdf0373-877d-4105-ad82-102fa76abf02                  procoffeegear.com   \n",
            "12  d53170e8-2568-4072-bfac-bc8a37229f3d                    returnprime.com   \n",
            "13  dd2f3a6f-a0ce-435b-a1a4-0e9e6b966011                            sell.do   \n",
            "14  fdf60792-f202-4746-b7a7-d52813374cef                        lumenci.com   \n",
            "\n",
            "   next_billing_date  topics_approved  outstanding_on_day  Status     Type  \\\n",
            "0         2025-07-24                5                  37  Active  Product   \n",
            "1         2025-07-06                0                  19  Active  Product   \n",
            "2         2025-07-14                0                  20  Active  Product   \n",
            "3         2025-07-12               21                  41  Active  Product   \n",
            "4         2025-07-10                1                   3  Active  Product   \n",
            "5         2025-07-16                1                  50  Active  Product   \n",
            "6         2025-07-19                0                   5  Active  Product   \n",
            "7         2025-07-06               10                  35  Active  Product   \n",
            "8         2025-08-01                0                 211  Active  Product   \n",
            "9         2025-07-08               25                  35  Active  Product   \n",
            "10        2025-07-19                8                  19  Active  Product   \n",
            "11        2025-07-19                4                  31  Active  Product   \n",
            "12        2025-08-04                6                  50  Active  Product   \n",
            "13        2025-07-05                0                  55  Active  Product   \n",
            "14        2025-07-28                2                  11  Active  Product   \n",
            "\n",
            "                                   cp_id     campaign__name  \\\n",
            "0   013300d9-d7e1-4cf7-8b88-e16f02d5c600         topmate.io   \n",
            "1   01c697d0-b570-491b-bd5b-192820325bb5      vizionapi.com   \n",
            "2   1dccf5ae-2f10-4e47-b07e-df0b8d34ca39            Vedantu   \n",
            "3   2611e1a4-9515-4b37-8234-145cfd635cc3      dashreels.com   \n",
            "4   330a8c2b-45ba-48a0-aeb7-5be12dd5c747        sahipro.com   \n",
            "5   638a483b-3076-45e3-bc1b-b0d122cfdc0a      akirolabs.com   \n",
            "6   6394fb2b-6d25-4bf8-8931-c2c1e7f95ca6          udext.com   \n",
            "7   6fa8af97-0019-469f-8daa-731b50e0aab4   beetlebeetle.com   \n",
            "8   77015d31-0095-4f29-98d4-a4dcf4c6f34d           sedai.io   \n",
            "9   b4154640-a977-4927-8bd0-932154cfca90         ICBP KWR 1   \n",
            "10  b4218d4f-1984-47ca-bea2-6987b370177f  Artemisia College   \n",
            "11  cfdf0373-877d-4105-ad82-102fa76abf02  procoffeegear.com   \n",
            "12  d53170e8-2568-4072-bfac-bc8a37229f3d    returnprime.com   \n",
            "13  dd2f3a6f-a0ce-435b-a1a4-0e9e6b966011            sell.do   \n",
            "14  fdf60792-f202-4746-b7a7-d52813374cef        lumenci.com   \n",
            "\n",
            "                        campaign__url               campaign__csm  \\\n",
            "0                          topmate.io  anhadvir.singh@gushwork.ai   \n",
            "1                       vizionapi.com  anhadvir.singh@gushwork.ai   \n",
            "2                         vedantu.com  anhadvir.singh@gushwork.ai   \n",
            "3                       dashreels.com                        None   \n",
            "4                         sahipro.com  anhadvir.singh@gushwork.ai   \n",
            "5                       akirolabs.com  anhadvir.singh@gushwork.ai   \n",
            "6                           udext.com  anhadvir.singh@gushwork.ai   \n",
            "7                    beetlebeetle.com  anhadvir.singh@gushwork.ai   \n",
            "8                            sedai.io  anhadvir.singh@gushwork.ai   \n",
            "9     insurancecoveredbreastpumps.com                        None   \n",
            "10  https://www.artemisiacollege.com/  anhadvir.singh@gushwork.ai   \n",
            "11                  procoffeegear.com  anhadvir.singh@gushwork.ai   \n",
            "12                    returnprime.com  anhadvir.singh@gushwork.ai   \n",
            "13                            sell.do  anhadvir.singh@gushwork.ai   \n",
            "14                        lumenci.com  anhadvir.singh@gushwork.ai   \n",
            "\n",
            "            campaign__clean_url        campaign__onboarding_date  \\\n",
            "0                       topmate 2024-12-23 09:31:25.983482+00:00   \n",
            "1                     vizionapi 2024-11-26 15:28:12.700967+00:00   \n",
            "2                       vedantu 2024-04-25 07:35:34.966488+00:00   \n",
            "3                     dashreels 2025-02-06 14:30:04.537806+00:00   \n",
            "4                       sahipro 2024-11-29 09:03:29.412892+00:00   \n",
            "5                     akirolabs 2024-11-19 14:26:59.658980+00:00   \n",
            "6                         udext 2024-10-21 16:57:47.859470+00:00   \n",
            "7                  beetlebeetle 2024-11-04 10:02:52.554319+00:00   \n",
            "8                         sedai 2024-08-13 19:08:47.412991+00:00   \n",
            "9   insurancecoveredbreastpumps 2025-06-02 07:03:40.882413+00:00   \n",
            "10             artemisiacollege 2025-06-19 11:21:09.633705+00:00   \n",
            "11                procoffeegear 2025-01-28 15:11:15.648757+00:00   \n",
            "12                  returnprime 2024-12-11 18:00:07.315463+00:00   \n",
            "13                         sell 2024-07-25 05:08:21.842530+00:00   \n",
            "14                      lumenci 2024-12-06 11:01:16.445941+00:00   \n",
            "\n",
            "    campaign__days_since_onboarding campaign__workflow low_topics_flag  \\\n",
            "0                             190.0   FULL SERVICE SEO      Low topics   \n",
            "1                             217.0   FULL SERVICE SEO      Low topics   \n",
            "2                             432.0   FULL SERVICE SEO      Low topics   \n",
            "3                             145.0   FULL SERVICE SEO            None   \n",
            "4                             214.0   FULL SERVICE SEO      Low topics   \n",
            "5                             224.0   FULL SERVICE SEO      Low topics   \n",
            "6                             253.0   FULL SERVICE SEO      Low topics   \n",
            "7                             239.0   FULL SERVICE SEO            None   \n",
            "8                             322.0   FULL SERVICE SEO      Low topics   \n",
            "9                              29.0   FULL SERVICE SEO            None   \n",
            "10                             12.0   FULL SERVICE SEO      Low topics   \n",
            "11                            154.0   FULL SERVICE SEO      Low topics   \n",
            "12                            202.0   FULL SERVICE SEO      Low topics   \n",
            "13                            342.0   FULL SERVICE SEO      Low topics   \n",
            "14                            207.0   FULL SERVICE SEO      Low topics   \n",
            "\n",
            "   imbalanced_topics_extended_flag                                    reasons  \n",
            "0                             None                                 Low topics  \n",
            "1    Contract end date approaching  Low topics, Contract end date approaching  \n",
            "2                             None                                 Low topics  \n",
            "3    Contract end date approaching              Contract end date approaching  \n",
            "4    Contract end date approaching  Low topics, Contract end date approaching  \n",
            "5                             None                                 Low topics  \n",
            "6                             None                                 Low topics  \n",
            "7    Contract end date approaching              Contract end date approaching  \n",
            "8                             None                                 Low topics  \n",
            "9    Contract end date approaching              Contract end date approaching  \n",
            "10                            None                                 Low topics  \n",
            "11                            None                                 Low topics  \n",
            "12                            None                                 Low topics  \n",
            "13   Contract end date approaching  Low topics, Contract end date approaching  \n",
            "14                            None                                 Low topics  \n"
          ]
        }
      ]
    },
    {
      "cell_type": "code",
      "source": [
        "# --- Group and email per CSM ---\n",
        "for csm, group in df.groupby(\"campaign__csm\"):\n",
        "    if pd.isna(csm):\n",
        "        continue\n",
        "\n",
        "    csm_first_name = csm.split('@')[0].split('.')[0].title()\n",
        "\n",
        "    low_topics_rows = group[group['reasons'].str.contains('Low topics', na=False)]\n",
        "    imbalanced_rows = group[group['reasons'].str.contains('Contract end date approaching', na=False)]\n",
        "\n",
        "    html_body = f\"<p>Hi {csm_first_name},</p>\"\n",
        "\n",
        "    if not low_topics_rows.empty:\n",
        "        html_body += \"\"\"\n",
        "<p>As of today, the following accounts have fewer than 8 approved topics.\n",
        "Please ensure that the required number of topics are approved no later than <b>Friday afternoon</b>.\n",
        "Failure to do so will result in <b>no writers</b> being assigned to these accounts for the coming writer allocation.</p>\n",
        "<table border=\"1\" cellpadding=\"5\">\n",
        "    <tr>\n",
        "        <th>Client</th>\n",
        "        <th>Topics Approved</th>\n",
        "        <th>Outstanding Blogs</th>\n",
        "    </tr>\n",
        "\"\"\"\n",
        "        for _, row in low_topics_rows.iterrows():\n",
        "            html_body += f\"\"\"\n",
        "    <tr>\n",
        "        <td>{row['campaign__clean_url']}</td>\n",
        "        <td>{row['topics_approved']}</td>\n",
        "        <td>{row['outstanding_on_day']}</td>\n",
        "    </tr>\n",
        "\"\"\"\n",
        "        html_body += \"</table><br>\"\n",
        "\n",
        "    if not imbalanced_rows.empty:\n",
        "        html_body += \"\"\"\n",
        "<p>As of today, the following accounts have contract end dates before the end of next week and have fewer approved topics\n",
        "than the number of blogs currently outstanding. Please ensure that the appropriate number of topics are approved before the\n",
        "coming Friday afternoon in order to fulfill the contracted blog deliveries before the end of the cycle.</p>\n",
        "<table border=\"1\" cellpadding=\"5\">\n",
        "    <tr>\n",
        "        <th>Client</th>\n",
        "        <th>Contract End Date</th>\n",
        "        <th>Days Remaining</th>\n",
        "        <th>Topics Approved</th>\n",
        "        <th>Outstanding Blogs</th>\n",
        "    </tr>\n",
        "\"\"\"\n",
        "        for _, row in imbalanced_rows.iterrows():\n",
        "            days_remaining = (pd.to_datetime(row['next_billing_date']) - pd.Timestamp.today().normalize()).days\n",
        "            html_body += f\"\"\"\n",
        "    <tr>\n",
        "        <td>{row['campaign__clean_url']}</td>\n",
        "        <td>{row['next_billing_date']}</td>\n",
        "        <td>{days_remaining}</td>\n",
        "        <td>{row['topics_approved']}</td>\n",
        "        <td>{row['outstanding_on_day']}</td>\n",
        "    </tr>\n",
        "\"\"\"\n",
        "        html_body += \"</table><br>\"\n",
        "\n",
        "    html_body += \"<p>Regards,<br>Gush Information System</p>\"\n",
        "\n",
        "    send_email(csm, \"Topics Approved Alert\", html_body)\n",
        "\n",
        "print(\"✅ All CSM emails sent.\")"
      ],
      "metadata": {
        "colab": {
          "base_uri": "https://localhost:8080/"
        },
        "id": "r_KhcjdVKp2L",
        "outputId": "fd4deca3-663f-4d27-a3b0-6ae53928c97f"
      },
      "execution_count": 132,
      "outputs": [
        {
          "output_type": "stream",
          "name": "stdout",
          "text": [
            "✅ All CSM emails sent.\n"
          ]
        }
      ]
    },
    {
      "cell_type": "code",
      "source": [
        "# --- Summary Email to Tushar ---\n",
        "summary_recipient = \"tushar.kumar@gushwork.ai,\"\n",
        "summary_subject = \"Summary: Topics Approved Alert\"\n",
        "\n",
        "# Filter all rows that need attention\n",
        "summary_df = df[df['reasons'].notna()]\n",
        "\n",
        "# Build HTML table rows\n",
        "summary_rows = \"\"\n",
        "for _, row in summary_df.iterrows():\n",
        "    summary_rows += f\"\"\"\n",
        "    <tr>\n",
        "        <td style='border: 1px solid #ddd; padding: 8px;'>{row['campaign__clean_url']}</td>\n",
        "        <td style='border: 1px solid #ddd; padding: 8px;'>{row['campaign__csm']}</td>\n",
        "        <td style='border: 1px solid #ddd; padding: 8px;'>{row['next_billing_date']}</td>\n",
        "        <td style='border: 1px solid #ddd; padding: 8px;'>{row['topics_approved']}</td>\n",
        "        <td style='border: 1px solid #ddd; padding: 8px;'>{row['outstanding_on_day']}</td>\n",
        "        <td style='border: 1px solid #ddd; padding: 8px;'>{row['reasons']}</td>\n",
        "    </tr>\n",
        "    \"\"\"\n",
        "\n",
        "# HTML Body\n",
        "summary_html = f\"\"\"\n",
        "<p>Hi Tushar,</p>\n",
        "<p>Please find below the accounts that have fewer than 8 topics approved or have fewer topics approved than content left to be done:</p>\n",
        "<table style='border-collapse: collapse; width: 100%;'>\n",
        "    <tr style='background-color: #f2f2f2;'>\n",
        "        <th style='border: 1px solid #ddd; padding: 8px;'>Client</th>\n",
        "        <th style='border: 1px solid #ddd; padding: 8px;'>CSM</th>\n",
        "        <th style='border: 1px solid #ddd; padding: 8px;'>Contract End Date</th>\n",
        "        <th style='border: 1px solid #ddd; padding: 8px;'>Topics Approved</th>\n",
        "        <th style='border: 1px solid #ddd; padding: 8px;'>Outstanding</th>\n",
        "        <th style='border: 1px solid #ddd; padding: 8px;'>Issue</th>\n",
        "    </tr>\n",
        "    {summary_rows}\n",
        "</table>\n",
        "<br><br>\n",
        "<p>Regards,<br>Gush Information System</p>\n",
        "\"\"\"\n",
        "\n",
        "# Plain-text Body\n",
        "summary_text = \"Hi Tushar,\\n\\nPlease find below the accounts that have fewer than 8 topics approved or have fewer topics approved than content left to be done:\\n\\n\"\n",
        "for _, row in summary_df.iterrows():\n",
        "    summary_text += f\"- {row['campaign__clean_url']}, CSM: {row['campaign__csm']}, Contract End Date: {row['next_billing_date']}, Topics Approved: {row['topics_approved']}, Outstanding: {row['outstanding_on_day']}, Issue: {row['reasons']}\\n\"\n",
        "\n",
        "summary_text += \"\\nRegards,\\nGush Information System\"\n",
        "\n",
        "# Send Summary Email\n",
        "msg = MIMEText(summary_html, \"html\")  # Change to \"plain\" if you prefer text version\n",
        "msg[\"Subject\"] = summary_subject\n",
        "msg[\"From\"] = EMAIL_SENDER\n",
        "msg[\"To\"] = summary_recipient\n",
        "\n",
        "with smtplib.SMTP(SMTP_SERVER, SMTP_PORT) as server:\n",
        "    server.starttls()\n",
        "    server.login(EMAIL_SENDER, EMAIL_PASSWORD)\n",
        "    server.sendmail(EMAIL_SENDER, [summary_recipient], msg.as_string())\n",
        "\n",
        "print(\"📩 Summary email sent to Tushar.\")"
      ],
      "metadata": {
        "colab": {
          "base_uri": "https://localhost:8080/"
        },
        "id": "HrpO67j8qdOL",
        "outputId": "e03b0b4c-5584-453d-aad8-89e94ccf0ec7"
      },
      "execution_count": 133,
      "outputs": [
        {
          "output_type": "stream",
          "name": "stdout",
          "text": [
            "📩 Summary email sent to Tushar.\n"
          ]
        }
      ]
    }
  ]
}