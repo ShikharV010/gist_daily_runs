{
  "nbformat": 4,
  "nbformat_minor": 0,
  "metadata": {
    "colab": {
      "provenance": [],
      "authorship_tag": "ABX9TyNISwlflrnkNx5t/H+hk1nB",
      "include_colab_link": true
    },
    "kernelspec": {
      "name": "python3",
      "display_name": "Python 3"
    },
    "language_info": {
      "name": "python"
    }
  },
  "cells": [
    {
      "cell_type": "markdown",
      "metadata": {
        "id": "view-in-github",
        "colab_type": "text"
      },
      "source": [
        "<a href=\"https://colab.research.google.com/github/ShikharV010/gist_daily_runs/blob/main/Wednesday_supplyOPS_Mailer.ipynb\" target=\"_parent\"><img src=\"https://colab.research.google.com/assets/colab-badge.svg\" alt=\"Open In Colab\"/></a>"
      ]
    },
    {
      "cell_type": "code",
      "source": [
        "import pandas as pd\n",
        "import smtplib\n",
        "from email.mime.text import MIMEText\n",
        "from sqlalchemy import create_engine"
      ],
      "metadata": {
        "id": "uOg09QFoIooo"
      },
      "execution_count": null,
      "outputs": []
    },
    {
      "cell_type": "code",
      "source": [
        "# --- PostgreSQL connection info ---\n",
        "pg_params = {\n",
        "    'host': 'gw-postgres-dev.celzx4qnlkfp.us-east-1.rds.amazonaws.com',\n",
        "    'database': 'gw_prod',\n",
        "    'user': 'airbyte_user',\n",
        "    'password': 'airbyte_user_password',\n",
        "    'port': '5432'\n",
        "}"
      ],
      "metadata": {
        "id": "P3phw7dhIs4Y"
      },
      "execution_count": null,
      "outputs": []
    },
    {
      "cell_type": "code",
      "source": [
        "# SQLAlchemy engine\n",
        "engine = create_engine(\n",
        "    f\"postgresql+psycopg2://{pg_params['user']}:{pg_params['password']}@{pg_params['host']}:{pg_params['port']}/{pg_params['database']}\"\n",
        ")"
      ],
      "metadata": {
        "id": "EQ-g7C1eI1qA"
      },
      "execution_count": null,
      "outputs": []
    },
    {
      "cell_type": "code",
      "source": [
        "# --- SQL logic: matches your Metabase question 4855 ---\n",
        "query = \"\"\"\n",
        "WITH cte_base_data AS (\n",
        "  SELECT\n",
        "    \"gist\".\"writerallocation_contractedapproved\".\"Campaign ID\" AS campaign_id,\n",
        "    \"gist\".\"writerallocation_contractedapproved\".\"URL\" AS url,\n",
        "    CAST(\"gist\".\"writerallocation_contractedapproved\".\"Next Billing Date\" AS DATE) AS next_billing_date,\n",
        "    \"gist\".\"writerallocation_contractedapproved\".\"Topics Approved\" AS topics_approved,\n",
        "    CAST(\"gist\".\"writerallocation_contractedapproved\".\"Outstanding on day\" AS  int) AS outstanding_on_day,\n",
        "    \"gist\".\"writerallocation_contractedapproved\".\"Status\" AS \"Status\",\n",
        "    \"gist\".\"writerallocation_contractedapproved\".\"Type\" AS \"Type\",\n",
        "    \"Gist Billablecampaignscsm - Campaign\".\"cp_id\" AS cp_id,\n",
        "    \"Gist Billablecampaignscsm - Campaign\".\"name\" AS campaign__name,\n",
        "    \"Gist Billablecampaignscsm - Campaign\".\"url\" AS campaign__url,\n",
        "    \"Gist Billablecampaignscsm - Campaign\".\"csm\" AS campaign__csm,\n",
        "    \"Gist Billablecampaignscsm - Campaign\".\"clean_url\" AS campaign__clean_url,\n",
        "    \"Gist Billablecampaignscsm - Campaign\".\"onboarding_date\" AS campaign__onboarding_date,\n",
        "    \"Gist Billablecampaignscsm - Campaign\".\"days_since_onboarding\" AS campaign__days_since_onboarding,\n",
        "    \"Gist Billablecampaignscsm - Campaign\".\"workflow\" AS campaign__workflow\n",
        "  FROM\n",
        "    \"gist\".\"writerallocation_contractedapproved\"\n",
        "  LEFT JOIN \"gist\".\"gist_billablecampaignscsm\" AS \"Gist Billablecampaignscsm - Campaign\"\n",
        "    ON \"gist\".\"writerallocation_contractedapproved\".\"Campaign ID\" = \"Gist Billablecampaignscsm - Campaign\".\"cp_id\"\n",
        "  WHERE\n",
        "    \"gist\".\"writerallocation_contractedapproved\".\"Status\" = 'Active'\n",
        "    AND \"gist\".\"writerallocation_contractedapproved\".\"Type\" = 'Product'\n",
        "),\n",
        "\n",
        "cte_flags AS (\n",
        "  SELECT *,\n",
        "      -- Low Topics Flag\n",
        "    CASE\n",
        "      WHEN topics_approved <= 8\n",
        "           AND outstanding_on_day > topics_approved\n",
        "      THEN 'Low topics'\n",
        "      ELSE NULL\n",
        "    END AS low_topics_flag,\n",
        "    CASE\n",
        "      WHEN outstanding_on_day > topics_approved\n",
        "           AND next_billing_date IS NOT NULL\n",
        "           AND (next_billing_date - CURRENT_DATE) <= 10\n",
        "      THEN 'Contract end date approaching'\n",
        "      ELSE NULL\n",
        "    END AS imbalanced_topics_extended_flag\n",
        "  FROM cte_base_data\n",
        ")\n",
        "\n",
        "SELECT *, CONCAT_WS(', ',low_topics_flag,imbalanced_topics_extended_flag)  AS reasons\n",
        "FROM cte_flags\n",
        "WHERE low_topics_flag = 'Low topics'\tOR imbalanced_topics_extended_flag = 'Contract end date approaching'\n",
        "ORDER BY 1;\n",
        "\"\"\"\n"
      ],
      "metadata": {
        "id": "Pim5PZFuI7PW"
      },
      "execution_count": null,
      "outputs": []
    },
    {
      "cell_type": "code",
      "source": [
        "# --- Read into DataFrame ---\n",
        "df = pd.read_sql_query(query, engine)\n",
        "print(\"Data fetched:\", df.shape)"
      ],
      "metadata": {
        "colab": {
          "base_uri": "https://localhost:8080/"
        },
        "id": "1K_oIlf1I8sU",
        "outputId": "a40f966b-01d7-4bfe-b50f-70b32e532fd2"
      },
      "execution_count": null,
      "outputs": [
        {
          "output_type": "stream",
          "name": "stdout",
          "text": [
            "Data fetched: (14, 18)\n"
          ]
        }
      ]
    },
    {
      "cell_type": "code",
      "source": [
        "# --- Email configuration ---\n",
        "SMTP_SERVER = 'smtp.gmail.com'\n",
        "SMTP_PORT = 587\n",
        "EMAIL_SENDER = 'Gist.support@gushwork.ai'  # Replace with your sender email\n",
        "EMAIL_PASSWORD = 'fbpu luxs wxcb ypul'   # Use Gmail App Password if using Gmail"
      ],
      "metadata": {
        "id": "_UlzQpfMJj1v"
      },
      "execution_count": null,
      "outputs": []
    },
    {
      "cell_type": "code",
      "source": [
        "# --- Send email function ---\n",
        "def send_email(to_email, subject, html_body):\n",
        "    msg = MIMEText(html_body, 'html')\n",
        "    msg['Subject'] = subject\n",
        "    msg['From'] = EMAIL_SENDER\n",
        "    msg['To'] = to_email\n",
        "\n",
        "    with smtplib.SMTP(SMTP_SERVER, SMTP_PORT) as server:\n",
        "        server.starttls()\n",
        "        server.login(EMAIL_SENDER, EMAIL_PASSWORD)\n",
        "        server.sendmail(EMAIL_SENDER, [to_email], msg.as_string())"
      ],
      "metadata": {
        "id": "shhsGRaAKmT1"
      },
      "execution_count": null,
      "outputs": []
    },
    {
      "cell_type": "code",
      "source": [
        "print(df)"
      ],
      "metadata": {
        "colab": {
          "base_uri": "https://localhost:8080/"
        },
        "id": "SHlKlOcCMIVz",
        "outputId": "b55ccced-44a1-4c12-da31-c34d7b5e903d"
      },
      "execution_count": null,
      "outputs": [
        {
          "output_type": "stream",
          "name": "stdout",
          "text": [
            "                             campaign_id                             url  \\\n",
            "0   013300d9-d7e1-4cf7-8b88-e16f02d5c600                      topmate.io   \n",
            "1   136d8360-69ee-43fa-ac78-90afbfdbfa84                       compup.io   \n",
            "2   1dccf5ae-2f10-4e47-b07e-df0b8d34ca39                     vedantu.com   \n",
            "3   531f6adf-eae2-4768-90a7-0f65d3bc9537                khandelwalaw.com   \n",
            "4   5e42fd93-7338-4f21-8a0b-0da9175f9b6e                     planacan.io   \n",
            "5   61f708d1-7421-4ffb-a3be-0967aa4b072c  https://www.expandastands.com/   \n",
            "6   638a483b-3076-45e3-bc1b-b0d122cfdc0a                   akirolabs.com   \n",
            "7   6e7d3978-3663-42cc-9f1d-805be86905d8                getclockwise.com   \n",
            "8   cfdf0373-877d-4105-ad82-102fa76abf02               procoffeegear.com   \n",
            "9   d23bc80c-3e09-40bc-bc50-5855c6dd43a0              www.cloudtech.com/   \n",
            "10  d53170e8-2568-4072-bfac-bc8a37229f3d                 returnprime.com   \n",
            "11  d616fe7e-669a-4a2f-bf54-828d6c7a6c07                        insia.ai   \n",
            "12  dfd5a6fc-620d-47c0-b620-557abf6c0d29                  www.s45club.in   \n",
            "13  e30e89a5-c1be-4990-9735-c69a710e2486                    v-comply.com   \n",
            "\n",
            "   next_billing_date  topics_approved  outstanding_on_day  Status     Type  \\\n",
            "0         2025-07-24                4                  34  Active  Product   \n",
            "1         2025-07-24               14                  18  Active  Product   \n",
            "2         2025-08-14                0                  45  Active  Product   \n",
            "3         2025-07-28                3                  17  Active  Product   \n",
            "4         2025-08-15                7                  11  Active  Product   \n",
            "5         2025-08-14                5                  15  Active  Product   \n",
            "6         2025-08-16                5                  49  Active  Product   \n",
            "7         2025-08-15                6                  10  Active  Product   \n",
            "8         2025-07-19               19                  28  Active  Product   \n",
            "9         2025-07-27                3                  49  Active  Product   \n",
            "10        2025-08-04                6                  49  Active  Product   \n",
            "11        2025-08-10                0                   9  Active  Product   \n",
            "12        2025-07-19                3                  24  Active  Product   \n",
            "13        2025-07-24                9                  19  Active  Product   \n",
            "\n",
            "                                   cp_id     campaign__name  \\\n",
            "0   013300d9-d7e1-4cf7-8b88-e16f02d5c600         topmate.io   \n",
            "1   136d8360-69ee-43fa-ac78-90afbfdbfa84          compup.io   \n",
            "2   1dccf5ae-2f10-4e47-b07e-df0b8d34ca39            Vedantu   \n",
            "3   531f6adf-eae2-4768-90a7-0f65d3bc9537   Sweta Khandelwal   \n",
            "4   5e42fd93-7338-4f21-8a0b-0da9175f9b6e        planacan.io   \n",
            "5   61f708d1-7421-4ffb-a3be-0967aa4b072c     Expanda Stands   \n",
            "6   638a483b-3076-45e3-bc1b-b0d122cfdc0a      akirolabs.com   \n",
            "7   6e7d3978-3663-42cc-9f1d-805be86905d8   getclockwise.com   \n",
            "8   cfdf0373-877d-4105-ad82-102fa76abf02  procoffeegear.com   \n",
            "9   d23bc80c-3e09-40bc-bc50-5855c6dd43a0          Cloudtech   \n",
            "10  d53170e8-2568-4072-bfac-bc8a37229f3d    returnprime.com   \n",
            "11  d616fe7e-669a-4a2f-bf54-828d6c7a6c07           insia.ai   \n",
            "12  dfd5a6fc-620d-47c0-b620-557abf6c0d29           S45 Club   \n",
            "13  e30e89a5-c1be-4990-9735-c69a710e2486            VComply   \n",
            "\n",
            "                     campaign__url                  campaign__csm  \\\n",
            "0                       topmate.io            suraj.t@gushwork.ai   \n",
            "1                        compup.io          meghna.pk@gushwork.ai   \n",
            "2                      vedantu.com         harsh.jain@gushwork.ai   \n",
            "3                 khandelwalaw.com         muddasir.h@gushwork.ai   \n",
            "4                      planacan.io     milind.goswami@gushwork.ai   \n",
            "5   https://www.expandastands.com/  richard.ittiachan@gushwork.ai   \n",
            "6                    akirolabs.com     milind.goswami@gushwork.ai   \n",
            "7                 getclockwise.com       nikhil.anand@gushwork.ai   \n",
            "8                procoffeegear.com     milind.goswami@gushwork.ai   \n",
            "9               www.cloudtech.com/     roshni.kothari@gushwork.ai   \n",
            "10                 returnprime.com       sushanth.raj@gushwork.ai   \n",
            "11                        insia.ai        archit.ayan@gushwork.ai   \n",
            "12                  www.s45club.in     tanmay.dwivedi@gushwork.ai   \n",
            "13                    v-comply.com       nikhil.anand@gushwork.ai   \n",
            "\n",
            "   campaign__clean_url        campaign__onboarding_date  \\\n",
            "0              topmate 2024-12-23 09:31:25.983482+00:00   \n",
            "1               compup 2024-11-15 09:29:23.934229+00:00   \n",
            "2              vedantu 2024-04-25 07:35:34.966488+00:00   \n",
            "3         khandelwalaw 2024-05-07 12:35:19.506463+00:00   \n",
            "4             planacan 2024-11-06 19:03:51.501762+00:00   \n",
            "5        expandastands 2025-06-06 06:06:51.589428+00:00   \n",
            "6            akirolabs 2024-11-19 14:26:59.658980+00:00   \n",
            "7         getclockwise 2024-09-11 18:19:37.997271+00:00   \n",
            "8        procoffeegear 2025-01-28 15:11:15.648757+00:00   \n",
            "9            cloudtech 2025-03-19 09:33:48.057456+00:00   \n",
            "10         returnprime 2024-12-11 18:00:07.315463+00:00   \n",
            "11               insia 2024-08-20 15:54:31.519545+00:00   \n",
            "12             s45club 2025-07-02 08:12:04.959497+00:00   \n",
            "13            v-comply 2024-04-29 11:17:00.575988+00:00   \n",
            "\n",
            "    campaign__days_since_onboarding campaign__workflow low_topics_flag  \\\n",
            "0                             205.0   FULL SERVICE SEO      Low topics   \n",
            "1                             243.0   FULL SERVICE SEO            None   \n",
            "2                             447.0   FULL SERVICE SEO      Low topics   \n",
            "3                             434.0   FULL SERVICE SEO      Low topics   \n",
            "4                             251.0   FULL SERVICE SEO      Low topics   \n",
            "5                              40.0   FULL SERVICE SEO      Low topics   \n",
            "6                             238.0   FULL SERVICE SEO      Low topics   \n",
            "7                             307.0   FULL SERVICE SEO      Low topics   \n",
            "8                             168.0   FULL SERVICE SEO            None   \n",
            "9                             119.0   FULL SERVICE SEO      Low topics   \n",
            "10                            216.0   FULL SERVICE SEO      Low topics   \n",
            "11                            329.0   FULL SERVICE SEO      Low topics   \n",
            "12                             14.0   FULL SERVICE SEO      Low topics   \n",
            "13                            443.0   FULL SERVICE SEO            None   \n",
            "\n",
            "   imbalanced_topics_extended_flag                                    reasons  \n",
            "0    Contract end date approaching  Low topics, Contract end date approaching  \n",
            "1    Contract end date approaching              Contract end date approaching  \n",
            "2                             None                                 Low topics  \n",
            "3                             None                                 Low topics  \n",
            "4                             None                                 Low topics  \n",
            "5                             None                                 Low topics  \n",
            "6                             None                                 Low topics  \n",
            "7                             None                                 Low topics  \n",
            "8    Contract end date approaching              Contract end date approaching  \n",
            "9                             None                                 Low topics  \n",
            "10                            None                                 Low topics  \n",
            "11                            None                                 Low topics  \n",
            "12   Contract end date approaching  Low topics, Contract end date approaching  \n",
            "13   Contract end date approaching              Contract end date approaching  \n"
          ]
        }
      ]
    },
    {
      "cell_type": "code",
      "source": [
        "# --- Group and email per CSM ---\n",
        "for csm, group in df.groupby(\"campaign__csm\"):\n",
        "    if pd.isna(csm):\n",
        "        continue\n",
        "\n",
        "    csm_first_name = csm.split('@')[0].split('.')[0].title()\n",
        "\n",
        "    low_topics_rows = group[group['reasons'].str.contains('Low topics', na=False)]\n",
        "    imbalanced_rows = group[group['reasons'].str.contains('Contract end date approaching', na=False)]\n",
        "\n",
        "    html_body = f\"<p>Hi {csm_first_name},</p>\"\n",
        "\n",
        "    if not low_topics_rows.empty:\n",
        "        html_body += \"\"\"\n",
        "<p>As of today, the following accounts have fewer than 8 approved topics.\n",
        "Please ensure that the required number of topics are approved no later than <b>Friday afternoon</b>.\n",
        "Failure to do so will result in <b>no writers</b> being assigned to these accounts for the coming writer allocation.</p>\n",
        "<table border=\"1\" cellpadding=\"5\">\n",
        "    <tr>\n",
        "        <th>Client</th>\n",
        "        <th>Topics Approved</th>\n",
        "        <th>Outstanding Blogs</th>\n",
        "    </tr>\n",
        "\"\"\"\n",
        "        for _, row in low_topics_rows.iterrows():\n",
        "            html_body += f\"\"\"\n",
        "    <tr>\n",
        "        <td>{row['campaign__clean_url']}</td>\n",
        "        <td>{row['topics_approved']}</td>\n",
        "        <td>{row['outstanding_on_day']}</td>\n",
        "    </tr>\n",
        "\"\"\"\n",
        "        html_body += \"</table><br>\"\n",
        "\n",
        "    if not imbalanced_rows.empty:\n",
        "        html_body += \"\"\"\n",
        "<p>As of today, the following accounts have contract end dates before the end of next week and have fewer approved topics\n",
        "than the number of blogs currently outstanding. Please ensure that the appropriate number of topics are approved before the\n",
        "coming Friday afternoon in order to fulfill the contracted blog deliveries before the end of the cycle.</p>\n",
        "<table border=\"1\" cellpadding=\"5\">\n",
        "    <tr>\n",
        "        <th>Client</th>\n",
        "        <th>Contract End Date</th>\n",
        "        <th>Days Remaining</th>\n",
        "        <th>Topics Approved</th>\n",
        "        <th>Outstanding Blogs</th>\n",
        "    </tr>\n",
        "\"\"\"\n",
        "        for _, row in imbalanced_rows.iterrows():\n",
        "            days_remaining = (pd.to_datetime(row['next_billing_date']) - pd.Timestamp.today().normalize()).days\n",
        "            html_body += f\"\"\"\n",
        "    <tr>\n",
        "        <td>{row['campaign__clean_url']}</td>\n",
        "        <td>{row['next_billing_date']}</td>\n",
        "        <td>{days_remaining}</td>\n",
        "        <td>{row['topics_approved']}</td>\n",
        "        <td>{row['outstanding_on_day']}</td>\n",
        "    </tr>\n",
        "\"\"\"\n",
        "        html_body += \"</table><br>\"\n",
        "\n",
        "    html_body += \"<p>Regards,<br>Gush Information System</p>\"\n",
        "\n",
        "    send_email(csm, \"Topics Approved Alert\", html_body)\n",
        "\n",
        "print(\"✅ All CSM emails sent.\")"
      ],
      "metadata": {
        "colab": {
          "base_uri": "https://localhost:8080/"
        },
        "id": "r_KhcjdVKp2L",
        "outputId": "9c6bf546-0ab0-4cbd-f642-f89d042f663b"
      },
      "execution_count": null,
      "outputs": [
        {
          "output_type": "stream",
          "name": "stdout",
          "text": [
            "✅ All CSM emails sent.\n"
          ]
        }
      ]
    },
    {
      "cell_type": "code",
      "source": [
        "# --- Summary Email to Tushar ---\n",
        "summary_recipient = \"tushar.kumar@gushwork.ai,\"\n",
        "summary_subject = \"Summary: Topics Approved Alert\"\n",
        "\n",
        "# Add a CC variable\n",
        "cc_recipient = \"bigrah.prasad@gushwork.ai\"\n",
        "\n",
        "# Filter all rows that need attention\n",
        "summary_df = df[df['reasons'].notna()]\n",
        "\n",
        "# Build HTML table rows\n",
        "summary_rows = \"\"\n",
        "for _, row in summary_df.iterrows():\n",
        "    summary_rows += f\"\"\"\n",
        "    <tr>\n",
        "        <td style='border: 1px solid #ddd; padding: 8px;'>{row['campaign__clean_url']}</td>\n",
        "        <td style='border: 1px solid #ddd; padding: 8px;'>{row['campaign__csm']}</td>\n",
        "        <td style='border: 1px solid #ddd; padding: 8px;'>{row['next_billing_date']}</td>\n",
        "        <td style='border: 1px solid #ddd; padding: 8px;'>{row['topics_approved']}</td>\n",
        "        <td style='border: 1px solid #ddd; padding: 8px;'>{row['outstanding_on_day']}</td>\n",
        "        <td style='border: 1px solid #ddd; padding: 8px;'>{row['reasons']}</td>\n",
        "    </tr>\n",
        "    \"\"\"\n",
        "\n",
        "# HTML Body\n",
        "summary_html = f\"\"\"\n",
        "<p>Hi Tushar,</p>\n",
        "<p>Please find below the accounts that have fewer than 8 topics approved or have fewer topics approved than content left to be done:</p>\n",
        "<table style='border-collapse: collapse; width: 100%;'>\n",
        "    <tr style='background-color: #f2f2f2;'>\n",
        "        <th style='border: 1px solid #ddd; padding: 8px;'>Client</th>\n",
        "        <th style='border: 1px solid #ddd; padding: 8px;'>CSM</th>\n",
        "        <th style='border: 1px solid #ddd; padding: 8px;'>Contract End Date</th>\n",
        "        <th style='border: 1px solid #ddd; padding: 8px;'>Topics Approved</th>\n",
        "        <th style='border: 1px solid #ddd; padding: 8px;'>Outstanding</th>\n",
        "        <th style='border: 1px solid #ddd; padding: 8px;'>Issue</th>\n",
        "    </tr>\n",
        "    {summary_rows}\n",
        "</table>\n",
        "<br><br>\n",
        "<p>Regards,<br>Gush Information System</p>\n",
        "\"\"\"\n",
        "\n",
        "# Plain-text Body\n",
        "summary_text = \"Hi Tushar,\\n\\nPlease find below the accounts that have fewer than 8 topics approved or have fewer topics approved than content left to be done:\\n\\n\"\n",
        "for _, row in summary_df.iterrows():\n",
        "    summary_text += f\"- {row['campaign__clean_url']}, CSM: {row['campaign__csm']}, Contract End Date: {row['next_billing_date']}, Topics Approved: {row['topics_approved']}, Outstanding: {row['outstanding_on_day']}, Issue: {row['reasons']}\\n\"\n",
        "\n",
        "summary_text += \"\\nRegards,\\nGush Information System\"\n",
        "\n",
        "# Send Summary Email\n",
        "msg = MIMEText(summary_html, \"html\")  # Change to \"plain\" if you prefer text version\n",
        "msg[\"Subject\"] = summary_subject\n",
        "msg[\"From\"] = EMAIL_SENDER\n",
        "msg[\"To\"] = summary_recipient\n",
        "msg[\"Cc\"] = cc_recipient\n",
        "\n",
        "# build a flat list of all recipients\n",
        "# if summary_recipient might be comma-separated, split & strip:\n",
        "to_addrs = [addr.strip()\n",
        "            for addr in summary_recipient.split(\",\") if addr.strip()]\n",
        "to_addrs.append(cc_recipient)\n",
        "\n",
        "with smtplib.SMTP(SMTP_SERVER, SMTP_PORT) as server:\n",
        "    server.starttls()\n",
        "    server.login(EMAIL_SENDER, EMAIL_PASSWORD)\n",
        "    server.sendmail(EMAIL_SENDER, to_addrs, msg.as_string())\n",
        "\n",
        "print(f\"📩 Summary email sent to {summary_recipient} and CC’d to {cc_recipient}.\")"
      ],
      "metadata": {
        "colab": {
          "base_uri": "https://localhost:8080/"
        },
        "id": "HrpO67j8qdOL",
        "outputId": "23790417-a9c1-4348-d7df-b3a8c0d5f034"
      },
      "execution_count": null,
      "outputs": [
        {
          "output_type": "stream",
          "name": "stdout",
          "text": [
            "📩 Summary email sent to tushar.kumar@gushwork.ai, and CC’d to bigrah@gushwork.ai.\n"
          ]
        }
      ]
    }
  ]
}